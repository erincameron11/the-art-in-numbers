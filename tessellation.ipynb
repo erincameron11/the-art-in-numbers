{
 "cells": [
  {
   "cell_type": "markdown",
   "id": "6d638ff1-0903-43c0-8656-04667ed31828",
   "metadata": {},
   "source": [
    "# Tessellation\n",
    "\n",
    "A tessellation, or tiling, is a pattern that completely covers a surface using one or more geometric shapes, called tiles, without any overlaps or gaps.\n",
    "\n",
    "---"
   ]
  },
  {
   "cell_type": "code",
   "execution_count": null,
   "id": "5b195840-68d9-44a6-8aa4-c837765debcf",
   "metadata": {},
   "outputs": [],
   "source": []
  }
 ],
 "metadata": {
  "kernelspec": {
   "display_name": "Python 3 (ipykernel)",
   "language": "python",
   "name": "python3"
  },
  "language_info": {
   "codemirror_mode": {
    "name": "ipython",
    "version": 3
   },
   "file_extension": ".py",
   "mimetype": "text/x-python",
   "name": "python",
   "nbconvert_exporter": "python",
   "pygments_lexer": "ipython3",
   "version": "3.11.7"
  }
 },
 "nbformat": 4,
 "nbformat_minor": 5
}
